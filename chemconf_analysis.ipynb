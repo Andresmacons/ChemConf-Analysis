{
 "cells": [
  {
   "cell_type": "code",
   "execution_count": 21,
   "id": "dcc95db3-63f9-4d46-aa95-6221da1511d2",
   "metadata": {},
   "outputs": [],
   "source": [
    "from itertools import islice\n",
    "import os\n",
    "import sys\n",
    "import numpy as np # paper : 10.1038/s41586-020-2649-2\n",
    "import pandas as pd # 10.5281/zenodo.13819579\n",
    "import shutil\n",
    "import chemcoord as cc  # paper: 10.1002/jcc.27029 ; documentation : http://chemcoord.readthedocs.org/"
   ]
  },
  {
   "cell_type": "code",
   "execution_count": 59,
   "id": "98538068-b45d-4493-a6aa-c6ddee7942a0",
   "metadata": {},
   "outputs": [],
   "source": [
    "def split_file_by_lines(filename, lines_per_subfile):\n",
    "    with open(os.getcwd()+'/crest_conformers.xyz', 'r') as file:\n",
    "        conf_num = 1\n",
    "        while True:\n",
    "            # Read the next chunk of lines\n",
    "            conf = list(islice(file, lines_per_subfile))\n",
    "            if not conf:\n",
    "                break  # Stop if there are no more lines to read\n",
    "            \n",
    "            # Process the chunk (e.g., save to another file or process further)\n",
    "            with open(os.getcwd()+'/conformers/conformer_'+str(conf_num)+'.xyz', 'w') as conf_file:\n",
    "                conf_file.writelines(conf)\n",
    "                \n",
    "            conf_num += 1\n",
    "                \n",
    "    print(f\"{subfiles_number} subfiles were generated with an extension of {lines_per_subfile} lines per file.\")                "
   ]
  },
  {
   "cell_type": "code",
   "execution_count": 61,
   "id": "8ece9a69-6faa-4698-bdff-cac221d2c81f",
   "metadata": {
    "scrolled": true
   },
   "outputs": [],
   "source": [
    "input_file = open(os.getcwd()+'/crest_conformers.xyz', 'rb')\n",
    "\n",
    "os.mkdir(os.getcwd()+'/conformers')\n",
    "\n",
    "first_line = input_file.readline() # the number of atoms in the system is retrieved from the first line in the xyz file\n",
    "\n",
    "with input_file as f:              # _with_ function is used to count the length of the xyz file. https://stackoverflow.com/a/1019572\n",
    "    num_lines = sum(1 for _ in f)\n",
    "    num_lines = num_lines+1\n",
    "\n",
    "lines_per_subfile = int(first_line) + 2\n",
    "subfiles_number = num_lines/lines_per_file\n",
    "\n",
    "split_file_by_lines('crest_conformers.xyz', lines_per_subfile) # calling the defined function, \n",
    "                                                               # we will get the subfiles with 1 conformer each"
   ]
  },
  {
   "cell_type": "code",
   "execution_count": 1,
   "id": "affa61e1-0136-4271-b727-f256d6efb839",
   "metadata": {},
   "outputs": [],
   "source": [
    "## Calculate_rmsd program is required to be used through bash terminal. It calculates the rmsd in an array of strcutures.\n",
    "\n",
    "%%bash\n",
    "cd conformers\n",
    "    \n",
    "for a in {1..362}\n",
    "do\n",
    "    for b in {1..362}\n",
    "    do\n",
    "    c=$(($b+$a))\n",
    "    d=$((362))\n",
    "    if [[ $c -le $d ]]; \n",
    "        then (echo $a\n",
    "        echo $c\n",
    "        calculate_rmsd --reorder ./conformer_$a.xyz ./conformer_$c.xyz ) >> raw_rmsd.csv\n",
    "    fi\n",
    "    done\n",
    "done\n",
    "    "
   ]
  },
  {
   "cell_type": "code",
   "execution_count": 3,
   "id": "c7c19a54-0de1-467d-89f0-7d16db33b3e6",
   "metadata": {},
   "outputs": [
    {
     "name": "stdout",
     "output_type": "stream",
     "text": [
      "Total number of unique structures in the first refinement cycle: 42\n"
     ]
    }
   ],
   "source": [
    "## First refinement step based on rmsd tolerances (1 A) between the structures.\n",
    "\n",
    "path = os.getcwd()+'/conformers/raw_rmsd.csv'\n",
    "rmsd_csv = pd.read_csv(path, header=None)\n",
    "\n",
    "lenght = len(rmsd_csv)\n",
    "total = range(0, lenght, 3)\n",
    "total_list = list(total)\n",
    "\n",
    "redundant_i = []\n",
    "\n",
    "for i in total_list:\n",
    "    \n",
    "    if rmsd_csv.values[i+2][0] <= 1:\n",
    "        redundant_i.append(rmsd_csv.values[i+1][0])\n",
    "        \n",
    "    else:\n",
    "       pass\n",
    "\n",
    "redundant_clean = set(redundant_i)\n",
    "print(f'Total number of unique structures in the first refinement cycle: {362-len(redundant_clean)}')"
   ]
  },
  {
   "cell_type": "code",
   "execution_count": 4,
   "id": "4f513bdc-a4d5-401d-bbe6-e510c99032ca",
   "metadata": {
    "scrolled": true
   },
   "outputs": [
    {
     "name": "stdout",
     "output_type": "stream",
     "text": [
      "Remaining unique structures are listed: \n",
      " \n",
      " [1.0, 5.0, 9.0, 14.0, 16.0, 18.0, 29.0, 30.0, 31.0, 42.0, 56.0, 105.0, 132.0, 133.0, 144.0, 152.0, 178.0, 182.0, 193.0, 204.0, 206.0, 214.0, 225.0, 239.0, 242.0, 245.0, 247.0, 256.0, 257.0, 274.0, 277.0, 291.0, 296.0, 297.0, 305.0, 310.0, 314.0, 321.0, 328.0, 334.0, 344.0]\n"
     ]
    }
   ],
   "source": [
    "clean_conf = []\n",
    "\n",
    "X = []\n",
    "Y = []\n",
    "Z = []\n",
    "\n",
    "for i in total_list:\n",
    "    new_i = rmsd_csv.values[i][0]\n",
    "    \n",
    "    if new_i not in redundant_clean:\n",
    "        new_i_2 = rmsd_csv.values[i+1][0]\n",
    "        \n",
    "        if new_i_2 not in redundant_clean:\n",
    "            X_temp = rmsd_csv.values[i][0]\n",
    "            Y_temp = rmsd_csv.values[i+1][0]\n",
    "            Z_temp = rmsd_csv.values[i+2][0]\n",
    "            \n",
    "            X.append(X_temp)\n",
    "            Y.append(Y_temp)\n",
    "            Z.append(Z_temp)\n",
    "    \n",
    "            clean_conf.append(rmsd_csv.values[i][0])\n",
    "    else:\n",
    "        pass\n",
    "        \n",
    "clean_conf_set = set(clean_conf)\n",
    "clean_conf_list = sorted(list(clean_conf_set))\n",
    "print(f'Remaining unique structures are listed: \\n \\n {clean_conf_list}')"
   ]
  },
  {
   "cell_type": "code",
   "execution_count": 5,
   "id": "b712776e-8f42-4084-a882-57d8fc459a41",
   "metadata": {
    "collapsed": true,
    "jupyter": {
     "outputs_hidden": true
    },
    "scrolled": true
   },
   "outputs": [
    {
     "name": "stdout",
     "output_type": "stream",
     "text": [
      "Obtaining data from structure 1.0...\n",
      "Cartesian coordinates were succesfully retrieved...\n",
      " \n",
      "Obtaining data from structure 5.0...\n",
      "Cartesian coordinates were succesfully retrieved...\n",
      " \n",
      "Obtaining data from structure 9.0...\n",
      "Cartesian coordinates were succesfully retrieved...\n",
      " \n",
      "Obtaining data from structure 14.0...\n",
      "Cartesian coordinates were succesfully retrieved...\n",
      " \n",
      "Obtaining data from structure 16.0...\n",
      "Cartesian coordinates were succesfully retrieved...\n",
      " \n",
      "Obtaining data from structure 18.0...\n",
      "Cartesian coordinates were succesfully retrieved...\n",
      " \n",
      "Obtaining data from structure 29.0...\n",
      "Cartesian coordinates were succesfully retrieved...\n",
      " \n",
      "Obtaining data from structure 30.0...\n",
      "Cartesian coordinates were succesfully retrieved...\n",
      " \n",
      "Obtaining data from structure 31.0...\n",
      "Cartesian coordinates were succesfully retrieved...\n",
      " \n",
      "Obtaining data from structure 42.0...\n",
      "Cartesian coordinates were succesfully retrieved...\n",
      " \n",
      "Obtaining data from structure 56.0...\n",
      "Cartesian coordinates were succesfully retrieved...\n",
      " \n",
      "Obtaining data from structure 105.0...\n",
      "Cartesian coordinates were succesfully retrieved...\n",
      " \n",
      "Obtaining data from structure 132.0...\n",
      "Cartesian coordinates were succesfully retrieved...\n",
      " \n",
      "Obtaining data from structure 133.0...\n",
      "Cartesian coordinates were succesfully retrieved...\n",
      " \n",
      "Obtaining data from structure 144.0...\n",
      "Cartesian coordinates were succesfully retrieved...\n",
      " \n",
      "Obtaining data from structure 152.0...\n",
      "Cartesian coordinates were succesfully retrieved...\n",
      " \n",
      "Obtaining data from structure 178.0...\n",
      "Cartesian coordinates were succesfully retrieved...\n",
      " \n",
      "Obtaining data from structure 182.0...\n",
      "Cartesian coordinates were succesfully retrieved...\n",
      " \n",
      "Obtaining data from structure 193.0...\n",
      "Cartesian coordinates were succesfully retrieved...\n",
      " \n",
      "Obtaining data from structure 204.0...\n",
      "Cartesian coordinates were succesfully retrieved...\n",
      " \n",
      "Obtaining data from structure 206.0...\n",
      "Cartesian coordinates were succesfully retrieved...\n",
      " \n",
      "Obtaining data from structure 214.0...\n",
      "Cartesian coordinates were succesfully retrieved...\n",
      " \n",
      "Obtaining data from structure 225.0...\n",
      "Cartesian coordinates were succesfully retrieved...\n",
      " \n",
      "Obtaining data from structure 239.0...\n",
      "Cartesian coordinates were succesfully retrieved...\n",
      " \n",
      "Obtaining data from structure 242.0...\n",
      "Cartesian coordinates were succesfully retrieved...\n",
      " \n",
      "Obtaining data from structure 245.0...\n",
      "Cartesian coordinates were succesfully retrieved...\n",
      " \n",
      "Obtaining data from structure 247.0...\n",
      "Cartesian coordinates were succesfully retrieved...\n",
      " \n",
      "Obtaining data from structure 256.0...\n",
      "Cartesian coordinates were succesfully retrieved...\n",
      " \n",
      "Obtaining data from structure 257.0...\n",
      "Cartesian coordinates were succesfully retrieved...\n",
      " \n",
      "Obtaining data from structure 274.0...\n",
      "Cartesian coordinates were succesfully retrieved...\n",
      " \n",
      "Obtaining data from structure 277.0...\n",
      "Cartesian coordinates were succesfully retrieved...\n",
      " \n",
      "Obtaining data from structure 291.0...\n",
      "Cartesian coordinates were succesfully retrieved...\n",
      " \n",
      "Obtaining data from structure 296.0...\n",
      "Cartesian coordinates were succesfully retrieved...\n",
      " \n",
      "Obtaining data from structure 297.0...\n",
      "Cartesian coordinates were succesfully retrieved...\n",
      " \n",
      "Obtaining data from structure 305.0...\n",
      "Cartesian coordinates were succesfully retrieved...\n",
      " \n",
      "Obtaining data from structure 310.0...\n",
      "Cartesian coordinates were succesfully retrieved...\n",
      " \n",
      "Obtaining data from structure 314.0...\n",
      "Cartesian coordinates were succesfully retrieved...\n",
      " \n",
      "Obtaining data from structure 321.0...\n",
      "Cartesian coordinates were succesfully retrieved...\n",
      " \n",
      "Obtaining data from structure 328.0...\n",
      "Cartesian coordinates were succesfully retrieved...\n",
      " \n",
      "Obtaining data from structure 334.0...\n",
      "Cartesian coordinates were succesfully retrieved...\n",
      " \n",
      "Obtaining data from structure 344.0...\n",
      "Cartesian coordinates were succesfully retrieved...\n",
      " \n",
      "#### Process was completed ####\n"
     ]
    }
   ],
   "source": [
    "new_conf_number = len(clean_conf_list)\n",
    "\n",
    "molecule = []\n",
    "for i in range(0,new_conf_number):\n",
    "    new_i = clean_conf_list[i]\n",
    "    print(f'Obtaining data from structure {new_i}...')   \n",
    "    xyz_file = os.getcwd()+'/conformers/conformer_'+str(int(new_i))+'.xyz'\n",
    "    molecule_new_i = cc.Cartesian.read_xyz(xyz_file)\n",
    "   \n",
    "    print('Cartesian coordinates were succesfully retrieved...')\n",
    "    print(' ')\n",
    "    molecule.append(molecule_new_i)\n",
    "\n",
    "print('#### Process was completed ####')"
   ]
  },
  {
   "cell_type": "code",
   "execution_count": 8,
   "id": "7edaedcc-3ff8-4471-a8ac-dad44c47e5c8",
   "metadata": {
    "scrolled": true
   },
   "outputs": [
    {
     "name": "stdout",
     "output_type": "stream",
     "text": [
      "[1.0, 5.0, 9.0, 14.0, 16.0, 18.0, 29.0, 30.0, 31.0, 42.0, 132.0, 133.0, 178.0, 182.0, 193.0, 206.0, 214.0, 225.0, 239.0, 242.0, 245.0, 256.0, 257.0, 274.0, 277.0, 310.0, 328.0]\n",
      "27\n"
     ]
    }
   ],
   "source": [
    "## Second refinement step based on Cu-C distances of 5 A\n",
    "\n",
    "new_conf_number = len(clean_conf_list)\n",
    "clean_indexes = []\n",
    "\n",
    "for i in range(0,new_conf_number):\n",
    "    Cu = molecule[i].loc[0, ['x','y','z']]  # First number represents the atom index position in the XYZ file \n",
    "    C = molecule[i].loc[26, ['x','y','z']]  # while [x,y,z] represents the cartesian coordinates of the atom\n",
    "    d = Cu - C                              # Vector between both atoms is calculated\n",
    "    mod_d = np.linalg.norm(d)               # Module of the vector is calculated to obtain the distance\n",
    "\n",
    "    if mod_d < 5:                           # Arbitrary threshold fot filtering structures with Cu-C distances > 5 A\n",
    "        clean_indexes.append(i)\n",
    "    else:\n",
    "        pass\n",
    "\n",
    "## Obtention of the corresponding conformer number and length of resultig list after second refinement\n",
    "\n",
    "n_clean_conf_list = []                      \n",
    "\n",
    "for i in clean_indexes: \n",
    "    new_i = int(i)\n",
    "    n_clean_conf_list.append(clean_conf_list[new_i])\n",
    "    \n",
    "print(n_clean_conf_list) \n",
    "print(len(n_clean_conf_list))"
   ]
  },
  {
   "cell_type": "code",
   "execution_count": 9,
   "id": "8ff422e5-0345-4aab-bf22-8bc0234c554d",
   "metadata": {},
   "outputs": [
    {
     "name": "stdout",
     "output_type": "stream",
     "text": [
      "[1.0, 5.0, 9.0, 14.0, 18.0, 29.0, 42.0, 132.0, 133.0, 178.0, 182.0, 214.0, 225.0, 239.0, 245.0, 256.0, 257.0, 274.0, 277.0, 328.0]\n",
      "20\n"
     ]
    }
   ],
   "source": [
    "## Third refinement step based on C1-C1 distances of 6.5 A\n",
    "\n",
    "n_clean_indexes = []\n",
    "\n",
    "for i in clean_indexes:\n",
    "    new_i = int(i)\n",
    "    C1 = molecule[new_i].loc[47, ['x','y','z']]\n",
    "    C2 = molecule[new_i].loc[42, ['x','y','z']]\n",
    "    d = C1 - C2\n",
    "    mod_d = np.linalg.norm(d)\n",
    "    \n",
    "    if mod_d > 6.5:\n",
    "        n_clean_indexes.append(i)\n",
    "    else:\n",
    "        pass\n",
    "\n",
    "## Obtention of the corresponding conformer number and length of resultig list after second refinement\n",
    "\n",
    "nn_clean_conf_list = []\n",
    "\n",
    "for i in n_clean_indexes: \n",
    "    new_i = int(i)\n",
    "    nn_clean_conf_list.append(clean_conf_list[new_i])\n",
    "print(nn_clean_conf_list) \n",
    "print(len(nn_clean_conf_list))"
   ]
  },
  {
   "cell_type": "code",
   "execution_count": 17,
   "id": "0fe1276b-240c-4b66-a2b3-732a6848fe56",
   "metadata": {
    "collapsed": true,
    "jupyter": {
     "outputs_hidden": true
    },
    "scrolled": true
   },
   "outputs": [
    {
     "name": "stdout",
     "output_type": "stream",
     "text": [
      "Obtaining data from structure 1.0...\n",
      "<class 'chemcoord.cartesian_coordinates.cartesian_class_main.Cartesian'>\n"
     ]
    },
    {
     "ename": "FileNotFoundError",
     "evalue": "[Errno 2] No such file or directory: '/conformers/Untitled Folder/conformer_1.0.xyz'",
     "output_type": "error",
     "traceback": [
      "\u001b[0;31m---------------------------------------------------------------------------\u001b[0m",
      "\u001b[0;31mFileNotFoundError\u001b[0m                         Traceback (most recent call last)",
      "Cell \u001b[0;32mIn[17], line 11\u001b[0m\n\u001b[1;32m      9\u001b[0m molecule_new_i \u001b[38;5;241m=\u001b[39m cc\u001b[38;5;241m.\u001b[39mCartesian\u001b[38;5;241m.\u001b[39mread_xyz(xyz_file)\n\u001b[1;32m     10\u001b[0m \u001b[38;5;28mprint\u001b[39m(\u001b[38;5;28mtype\u001b[39m(molecule_new_i))\n\u001b[0;32m---> 11\u001b[0m \u001b[38;5;28mprint\u001b[39m(molecule_new_i, file\u001b[38;5;241m=\u001b[39m\u001b[38;5;28;43mopen\u001b[39;49m\u001b[43m(\u001b[49m\u001b[38;5;124;43m'\u001b[39;49m\u001b[38;5;124;43m/conformers/Untitled Folder/conformer_\u001b[39;49m\u001b[38;5;124;43m'\u001b[39;49m\u001b[38;5;241;43m+\u001b[39;49m\u001b[38;5;28;43mstr\u001b[39;49m\u001b[43m(\u001b[49m\u001b[43mnew_i\u001b[49m\u001b[43m)\u001b[49m\u001b[38;5;241;43m+\u001b[39;49m\u001b[38;5;124;43m'\u001b[39;49m\u001b[38;5;124;43m.xyz\u001b[39;49m\u001b[38;5;124;43m'\u001b[39;49m\u001b[43m,\u001b[49m\u001b[38;5;124;43m'\u001b[39;49m\u001b[38;5;124;43mw+\u001b[39;49m\u001b[38;5;124;43m'\u001b[39;49m\u001b[43m)\u001b[49m)\n\u001b[1;32m     13\u001b[0m \u001b[38;5;28mprint\u001b[39m(\u001b[38;5;124m'\u001b[39m\u001b[38;5;124mCartesian coordinates were succesfully retrieved...\u001b[39m\u001b[38;5;124m'\u001b[39m)\n\u001b[1;32m     14\u001b[0m \u001b[38;5;28mprint\u001b[39m(\u001b[38;5;124m'\u001b[39m\u001b[38;5;124m \u001b[39m\u001b[38;5;124m'\u001b[39m)\n",
      "File \u001b[0;32m~/anaconda3/envs/camlc24/lib/python3.10/site-packages/IPython/core/interactiveshell.py:324\u001b[0m, in \u001b[0;36m_modified_open\u001b[0;34m(file, *args, **kwargs)\u001b[0m\n\u001b[1;32m    317\u001b[0m \u001b[38;5;28;01mif\u001b[39;00m file \u001b[38;5;129;01min\u001b[39;00m {\u001b[38;5;241m0\u001b[39m, \u001b[38;5;241m1\u001b[39m, \u001b[38;5;241m2\u001b[39m}:\n\u001b[1;32m    318\u001b[0m     \u001b[38;5;28;01mraise\u001b[39;00m \u001b[38;5;167;01mValueError\u001b[39;00m(\n\u001b[1;32m    319\u001b[0m         \u001b[38;5;124mf\u001b[39m\u001b[38;5;124m\"\u001b[39m\u001b[38;5;124mIPython won\u001b[39m\u001b[38;5;124m'\u001b[39m\u001b[38;5;124mt let you open fd=\u001b[39m\u001b[38;5;132;01m{\u001b[39;00mfile\u001b[38;5;132;01m}\u001b[39;00m\u001b[38;5;124m by default \u001b[39m\u001b[38;5;124m\"\u001b[39m\n\u001b[1;32m    320\u001b[0m         \u001b[38;5;124m\"\u001b[39m\u001b[38;5;124mas it is likely to crash IPython. If you know what you are doing, \u001b[39m\u001b[38;5;124m\"\u001b[39m\n\u001b[1;32m    321\u001b[0m         \u001b[38;5;124m\"\u001b[39m\u001b[38;5;124myou can use builtins\u001b[39m\u001b[38;5;124m'\u001b[39m\u001b[38;5;124m open.\u001b[39m\u001b[38;5;124m\"\u001b[39m\n\u001b[1;32m    322\u001b[0m     )\n\u001b[0;32m--> 324\u001b[0m \u001b[38;5;28;01mreturn\u001b[39;00m \u001b[43mio_open\u001b[49m\u001b[43m(\u001b[49m\u001b[43mfile\u001b[49m\u001b[43m,\u001b[49m\u001b[43m \u001b[49m\u001b[38;5;241;43m*\u001b[39;49m\u001b[43margs\u001b[49m\u001b[43m,\u001b[49m\u001b[43m \u001b[49m\u001b[38;5;241;43m*\u001b[39;49m\u001b[38;5;241;43m*\u001b[39;49m\u001b[43mkwargs\u001b[49m\u001b[43m)\u001b[49m\n",
      "\u001b[0;31mFileNotFoundError\u001b[0m: [Errno 2] No such file or directory: '/conformers/Untitled Folder/conformer_1.0.xyz'"
     ]
    }
   ],
   "source": [
    "inal_conf_list = len(nn_clean_conf_list)\n",
    "os.mkadir(os.getcwd()+'/conformers/final_conformers')\n",
    "\n",
    "\n",
    "for i in range(0,final_conf_list):\n",
    "    new_i = nn_clean_conf_list[i]\n",
    "    print(f'Obtaining data from structure {new_i}...')   \n",
    "    old_path = os.getcwd()+'/conformers/conformer_'+str(int(new_i))+'.xyz'\n",
    "    new_path = os.getcwd()+'/conformers/final_conformers/conformer_'+str(int(new_i))+'.xyz'\n",
    "    shutil.copyfile(old_path, new_path)\n",
    "    \n",
    "    print('Cartesian coordinates were succesfully retrieved...')\n",
    "    print(' ')\n",
    "\n",
    "print('###############################')\n",
    "print('#### Process was completed ####')\n",
    "print('###############################')"
   ]
  },
  {
   "cell_type": "code",
   "execution_count": null,
   "id": "cfb37d8b-cb8c-45e8-9f2e-65e49dbada0f",
   "metadata": {},
   "outputs": [],
   "source": []
  }
 ],
 "metadata": {
  "kernelspec": {
   "display_name": "Python 3 (ipykernel)",
   "language": "python",
   "name": "python3"
  },
  "language_info": {
   "codemirror_mode": {
    "name": "ipython",
    "version": 3
   },
   "file_extension": ".py",
   "mimetype": "text/x-python",
   "name": "python",
   "nbconvert_exporter": "python",
   "pygments_lexer": "ipython3",
   "version": "3.10.14"
  }
 },
 "nbformat": 4,
 "nbformat_minor": 5
}
