{
 "cells": [
  {
   "cell_type": "code",
   "execution_count": null,
   "id": "dcc95db3-63f9-4d46-aa95-6221da1511d2",
   "metadata": {},
   "outputs": [],
   "source": [
    "from itertools import islice\n",
    "import os\n",
    "import sys\n",
    "import numpy as np # paper : 10.1038/s41586-020-2649-2\n",
    "import pandas as pd # 10.5281/zenodo.13819579\n",
    "import shutil\n",
    "import chemcoord as cc  # paper: 10.1002/jcc.27029 ; documentation : http://chemcoord.readthedocs.org/"
   ]
  },
  {
   "cell_type": "code",
   "execution_count": null,
   "id": "98538068-b45d-4493-a6aa-c6ddee7942a0",
   "metadata": {},
   "outputs": [],
   "source": [
    "def split_file_by_lines(filename, lines_per_subfile):\n",
    "    with open(os.getcwd()+'/crest_conformers.xyz', 'r') as file:\n",
    "        conf_num = 1\n",
    "        while True:\n",
    "            # Read the next chunk of lines\n",
    "            conf = list(islice(file, lines_per_subfile))\n",
    "            if not conf:\n",
    "                break  # Stop if there are no more lines to read\n",
    "            \n",
    "            # Process the chunk (e.g., save to another file or process further)\n",
    "            with open(os.getcwd()+'/conformers/conformer_'+str(conf_num)+'.xyz', 'w') as conf_file:\n",
    "                conf_file.writelines(conf)\n",
    "                \n",
    "            conf_num += 1\n",
    "                \n",
    "    print(f\"{subfiles_number} subfiles were generated with an extension of {lines_per_subfile} lines per file.\")                "
   ]
  },
  {
   "cell_type": "code",
   "execution_count": null,
   "id": "8ece9a69-6faa-4698-bdff-cac221d2c81f",
   "metadata": {
    "scrolled": true
   },
   "outputs": [],
   "source": [
    "input_file = open(os.getcwd()+'/crest_conformers.xyz', 'rb')\n",
    "\n",
    "os.mkdir(os.getcwd()+'/conformers')\n",
    "\n",
    "first_line = input_file.readline() # the number of atoms in the system is retrieved from the first line in the xyz file\n",
    "\n",
    "with input_file as f:              # _with_ function is used to count the length of the xyz file. https://stackoverflow.com/a/1019572\n",
    "    num_lines = sum(1 for _ in f)\n",
    "    num_lines = num_lines+1\n",
    "\n",
    "lines_per_subfile = int(first_line) + 2\n",
    "subfiles_number = num_lines/lines_per_file\n",
    "\n",
    "split_file_by_lines('crest_conformers.xyz', lines_per_subfile) # calling the defined function, \n",
    "                                                               # we will get the subfiles with 1 conformer each"
   ]
  },
  {
   "cell_type": "code",
   "execution_count": null,
   "id": "affa61e1-0136-4271-b727-f256d6efb839",
   "metadata": {},
   "outputs": [],
   "source": [
    "## Calculate_rmsd program is required to be used through bash terminal. It calculates the rmsd in an array of strcutures.\n",
    "\n",
    "%%bash\n",
    "cd conformers\n",
    "    \n",
    "for a in {1..362}\n",
    "do\n",
    "    for b in {1..362}\n",
    "    do\n",
    "    c=$(($b+$a))\n",
    "    d=$((362))\n",
    "    if [[ $c -le $d ]]; \n",
    "        then (echo $a\n",
    "        echo $c\n",
    "        calculate_rmsd --reorder ./conformer_$a.xyz ./conformer_$c.xyz ) >> raw_rmsd.csv\n",
    "    fi\n",
    "    done\n",
    "done\n",
    "    "
   ]
  },
  {
   "cell_type": "code",
   "execution_count": null,
   "id": "c7c19a54-0de1-467d-89f0-7d16db33b3e6",
   "metadata": {},
   "outputs": [],
   "source": [
    "## First refinement step based on rmsd tolerances (1 A) between the structures.\n",
    "\n",
    "path = os.getcwd()+'/conformers/raw_rmsd.csv'\n",
    "rmsd_csv = pd.read_csv(path, header=None)\n",
    "\n",
    "lenght = len(rmsd_csv)\n",
    "total = range(0, lenght, 3)\n",
    "total_list = list(total)\n",
    "\n",
    "redundant_i = []\n",
    "\n",
    "for i in total_list:\n",
    "    \n",
    "    if rmsd_csv.values[i+2][0] <= 1:\n",
    "        redundant_i.append(rmsd_csv.values[i+1][0])\n",
    "        \n",
    "    else:\n",
    "       pass\n",
    "\n",
    "redundant_clean = set(redundant_i)\n",
    "print(f'Total number of unique structures in the first refinement cycle: {362-len(redundant_clean)}')"
   ]
  },
  {
   "cell_type": "code",
   "execution_count": null,
   "id": "4f513bdc-a4d5-401d-bbe6-e510c99032ca",
   "metadata": {
    "scrolled": true
   },
   "outputs": [],
   "source": [
    "clean_conf = []\n",
    "\n",
    "X = []\n",
    "Y = []\n",
    "Z = []\n",
    "\n",
    "for i in total_list:\n",
    "    new_i = rmsd_csv.values[i][0]\n",
    "    \n",
    "    if new_i not in redundant_clean:\n",
    "        new_i_2 = rmsd_csv.values[i+1][0]\n",
    "        \n",
    "        if new_i_2 not in redundant_clean:\n",
    "            X_temp = rmsd_csv.values[i][0]\n",
    "            Y_temp = rmsd_csv.values[i+1][0]\n",
    "            Z_temp = rmsd_csv.values[i+2][0]\n",
    "            \n",
    "            X.append(X_temp)\n",
    "            Y.append(Y_temp)\n",
    "            Z.append(Z_temp)\n",
    "    \n",
    "            clean_conf.append(rmsd_csv.values[i][0])\n",
    "    else:\n",
    "        pass\n",
    "        \n",
    "clean_conf_set = set(clean_conf)\n",
    "clean_conf_list = sorted(list(clean_conf_set))\n",
    "print(f'Remaining unique structures are listed: \\n \\n {clean_conf_list}')"
   ]
  },
  {
   "cell_type": "code",
   "execution_count": null,
   "id": "b712776e-8f42-4084-a882-57d8fc459a41",
   "metadata": {
    "scrolled": true
   },
   "outputs": [],
   "source": [
    "new_conf_number = len(clean_conf_list)\n",
    "\n",
    "molecule = []\n",
    "for i in range(0,new_conf_number):\n",
    "    new_i = clean_conf_list[i]\n",
    "    print(f'Obtaining data from structure {new_i}...')   \n",
    "    xyz_file = os.getcwd()+'/conformers/conformer_'+str(int(new_i))+'.xyz'\n",
    "    molecule_new_i = cc.Cartesian.read_xyz(xyz_file)\n",
    "   \n",
    "    print('Cartesian coordinates were succesfully retrieved...')\n",
    "    print(' ')\n",
    "    molecule.append(molecule_new_i)\n",
    "\n",
    "print('#### Process was completed ####')"
   ]
  },
  {
   "cell_type": "code",
   "execution_count": null,
   "id": "7edaedcc-3ff8-4471-a8ac-dad44c47e5c8",
   "metadata": {
    "scrolled": true
   },
   "outputs": [],
   "source": [
    "## Second refinement step based on Cu-C distances of 5 A\n",
    "\n",
    "new_conf_number = len(clean_conf_list)\n",
    "clean_indexes = []\n",
    "\n",
    "for i in range(0,new_conf_number):\n",
    "    Cu = molecule[i].loc[0, ['x','y','z']]  # First number represents the atom index position in the XYZ file \n",
    "    C = molecule[i].loc[26, ['x','y','z']]  # while [x,y,z] represents the cartesian coordinates of the atom\n",
    "    d = Cu - C                              # Vector between both atoms is calculated\n",
    "    mod_d = np.linalg.norm(d)               # Module of the vector is calculated to obtain the distance\n",
    "\n",
    "    if mod_d < 5:                           # Arbitrary threshold fot filtering structures with Cu-C distances > 5 A\n",
    "        clean_indexes.append(i)\n",
    "    else:\n",
    "        pass\n",
    "\n",
    "## Obtention of the corresponding conformer number and length of resultig list after second refinement\n",
    "\n",
    "n_clean_conf_list = []                      \n",
    "\n",
    "for i in clean_indexes: \n",
    "    new_i = int(i)\n",
    "    n_clean_conf_list.append(clean_conf_list[new_i])\n",
    "    \n",
    "print(n_clean_conf_list) \n",
    "print(len(n_clean_conf_list))"
   ]
  },
  {
   "cell_type": "code",
   "execution_count": null,
   "id": "8ff422e5-0345-4aab-bf22-8bc0234c554d",
   "metadata": {},
   "outputs": [],
   "source": [
    "## Third refinement step based on C1-C1 distances of 6.5 A\n",
    "\n",
    "n_clean_indexes = []\n",
    "\n",
    "for i in clean_indexes:\n",
    "    new_i = int(i)\n",
    "    C1 = molecule[new_i].loc[47, ['x','y','z']]\n",
    "    C2 = molecule[new_i].loc[42, ['x','y','z']]\n",
    "    d = C1 - C2\n",
    "    mod_d = np.linalg.norm(d)\n",
    "    \n",
    "    if mod_d > 6.5:\n",
    "        n_clean_indexes.append(i)\n",
    "    else:\n",
    "        pass\n",
    "\n",
    "## Obtention of the corresponding conformer number and length of resultig list after second refinement\n",
    "\n",
    "nn_clean_conf_list = []\n",
    "\n",
    "for i in n_clean_indexes: \n",
    "    new_i = int(i)\n",
    "    nn_clean_conf_list.append(clean_conf_list[new_i])\n",
    "print(nn_clean_conf_list) \n",
    "print(len(nn_clean_conf_list))"
   ]
  },
  {
   "cell_type": "code",
   "execution_count": null,
   "id": "0fe1276b-240c-4b66-a2b3-732a6848fe56",
   "metadata": {
    "scrolled": true
   },
   "outputs": [],
   "source": [
    "inal_conf_list = len(nn_clean_conf_list)\n",
    "os.mkadir(os.getcwd()+'/conformers/final_conformers')\n",
    "\n",
    "\n",
    "for i in range(0,final_conf_list):\n",
    "    new_i = nn_clean_conf_list[i]\n",
    "    print(f'Obtaining data from structure {new_i}...')   \n",
    "    old_path = os.getcwd()+'/conformers/conformer_'+str(int(new_i))+'.xyz'\n",
    "    new_path = os.getcwd()+'/conformers/final_conformers/conformer_'+str(int(new_i))+'.xyz'\n",
    "    shutil.copyfile(old_path, new_path)\n",
    "    \n",
    "    print('Cartesian coordinates were succesfully retrieved...')\n",
    "    print(' ')\n",
    "\n",
    "print('###############################')\n",
    "print('#### Process was completed ####')\n",
    "print('###############################')"
   ]
  },
  {
   "cell_type": "code",
   "execution_count": null,
   "id": "cfb37d8b-cb8c-45e8-9f2e-65e49dbada0f",
   "metadata": {},
   "outputs": [],
   "source": []
  }
 ],
 "metadata": {
  "kernelspec": {
   "display_name": "Python 3 (ipykernel)",
   "language": "python",
   "name": "python3"
  },
  "language_info": {
   "codemirror_mode": {
    "name": "ipython",
    "version": 3
   },
   "file_extension": ".py",
   "mimetype": "text/x-python",
   "name": "python",
   "nbconvert_exporter": "python",
   "pygments_lexer": "ipython3",
   "version": "3.10.14"
  }
 },
 "nbformat": 4,
 "nbformat_minor": 5
}
